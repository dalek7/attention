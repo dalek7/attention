{
 "cells": [
  {
   "cell_type": "code",
   "execution_count": 1,
   "metadata": {},
   "outputs": [],
   "source": [
    "from layers.attention import AttentionLayer\n",
    "from tensorflow.keras.layers import Input, GRU, Dense, Concatenate, TimeDistributed\n",
    "from tensorflow.keras.models import Model\n",
    "import tensorflow as tf\n",
    "#import pytest"
   ]
  },
  {
   "cell_type": "code",
   "execution_count": 2,
   "metadata": {},
   "outputs": [
    {
     "data": {
      "text/plain": [
       "('2.3.0', '2.4.0')"
      ]
     },
     "execution_count": 2,
     "metadata": {},
     "output_type": "execute_result"
    }
   ],
   "source": [
    "tf.__version__, tf.keras.__version__"
   ]
  },
  {
   "cell_type": "markdown",
   "metadata": {},
   "source": [
    "Encoder and decoder has variable seq length and latent dim"
   ]
  },
  {
   "cell_type": "code",
   "execution_count": 3,
   "metadata": {},
   "outputs": [],
   "source": [
    "def test_attention_layer_standalone_fixed_b_fixed_t():\n",
    "    \"\"\"\n",
    "    Encoder and decoder has variable seq length and latent dim\n",
    "    \"\"\"\n",
    "    inp1 = Input(batch_shape=(5,10,15)) # (B, T, D) \n",
    "    inp2 = Input(batch_shape=(5,15,25)) # (B, T, D) \n",
    "    \n",
    "    out, e_out = AttentionLayer()([inp1, inp2])\n",
    "    assert out.shape == tf.TensorShape([inp2.shape[0], inp2.shape[1], inp1.shape[2]])\n",
    "    assert e_out.shape == tf.TensorShape([inp1.shape[0], inp2.shape[1], inp1.shape[1]])\n",
    "    print(out.shape)\n",
    "    print(e_out.shape)"
   ]
  },
  {
   "cell_type": "code",
   "execution_count": 4,
   "metadata": {},
   "outputs": [
    {
     "name": "stdout",
     "output_type": "stream",
     "text": [
      "(5, 15, 15)\n",
      "(5, 15, 10)\n"
     ]
    }
   ],
   "source": [
    "test_attention_layer_standalone_fixed_b_fixed_t()"
   ]
  },
  {
   "cell_type": "markdown",
   "metadata": {},
   "source": [
    "### References\n",
    "\n",
    "* https://github.com/thushv89/attention_keras\n",
    "* https://towardsdatascience.com/light-on-math-ml-attention-with-keras-dc8dbc1fad39"
   ]
  }
 ],
 "metadata": {
  "kernelspec": {
   "display_name": "Python 3",
   "language": "python",
   "name": "python3"
  },
  "language_info": {
   "codemirror_mode": {
    "name": "ipython",
    "version": 3
   },
   "file_extension": ".py",
   "mimetype": "text/x-python",
   "name": "python",
   "nbconvert_exporter": "python",
   "pygments_lexer": "ipython3",
   "version": "3.6.8"
  }
 },
 "nbformat": 4,
 "nbformat_minor": 2
}
